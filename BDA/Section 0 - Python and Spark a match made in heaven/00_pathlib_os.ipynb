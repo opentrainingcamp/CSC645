{
 "cells": [
  {
   "cell_type": "markdown",
   "metadata": {},
   "source": [
    "# Some tuning and python in jupyter tricks"
   ]
  },
  {
   "cell_type": "code",
   "execution_count": 10,
   "metadata": {},
   "outputs": [
    {
     "name": "stdout",
     "output_type": "stream",
     "text": [
      "S:\\\n",
      "S:\\mesgit\\CSC645\\BDA\\Section 0 - MapReduce starting with Spark\n",
      "S:\\mesgit\\CSC645\\BDA\\Section 0 - MapReduce starting with Spark\n",
      "S:\\mesgit\\CSC645\\BDA\n",
      "S:\\mesgit\\CSC645\\BDA\\Section 0 - MapReduce starting with Spark\n",
      "S:\\mesgit\\CSC645\\BDA\\sparkhome\\spark-3.0.1-bin-hadoop2.7\\data\n"
     ]
    }
   ],
   "source": [
    "from pathlib import Path, PurePath\n",
    "import os\n",
    "print(Path('/').resolve())\n",
    "print(Path('.').resolve())\n",
    "print(Path().resolve())\n",
    "print(Path('..').resolve())\n",
    "print(os.getcwd())\n",
    "print(os.environ['DATA_EXAMPLES'])"
   ]
  },
  {
   "cell_type": "code",
   "execution_count": null,
   "metadata": {},
   "outputs": [],
   "source": [
    "print(f\"type of Path is {type(Path().resolve())} but type of getcwd is {type(os.getcwd())}\")"
   ]
  }
 ],
 "metadata": {
  "kernelspec": {
   "display_name": "Python 3",
   "language": "python",
   "name": "python3"
  },
  "language_info": {
   "codemirror_mode": {
    "name": "ipython",
    "version": 3
   },
   "file_extension": ".py",
   "mimetype": "text/x-python",
   "name": "python",
   "nbconvert_exporter": "python",
   "pygments_lexer": "ipython3",
   "version": "3.8.1"
  }
 },
 "nbformat": 4,
 "nbformat_minor": 4
}
